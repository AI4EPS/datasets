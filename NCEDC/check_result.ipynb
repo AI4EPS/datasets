{
 "cells": [
  {
   "cell_type": "code",
   "execution_count": null,
   "metadata": {},
   "outputs": [],
   "source": [
    "!gsutil cp gs://ncedc/catalogs/combined_phases.csv gs://ncedc-ps/catalogs/"
   ]
  },
  {
   "cell_type": "code",
   "execution_count": null,
   "metadata": {},
   "outputs": [],
   "source": [
    "!gsutil ls gs://ncedc/data > files.txt"
   ]
  },
  {
   "cell_type": "code",
   "execution_count": 1,
   "metadata": {},
   "outputs": [],
   "source": [
    "import pandas as pd"
   ]
  },
  {
   "cell_type": "code",
   "execution_count": 88,
   "metadata": {},
   "outputs": [],
   "source": [
    "csv = pd.read_csv(\"combined_phases.csv\", sep=\"\\t\")"
   ]
  },
  {
   "cell_type": "code",
   "execution_count": 89,
   "metadata": {},
   "outputs": [],
   "source": [
    "files = pd.read_csv(\"files.txt\", header=None, names=[\"fname\"])"
   ]
  },
  {
   "cell_type": "code",
   "execution_count": 90,
   "metadata": {},
   "outputs": [],
   "source": [
    "files[\"file_name\"] =  files[\"fname\"].apply(lambda x: x.split(\"/\")[-1])"
   ]
  },
  {
   "cell_type": "code",
   "execution_count": 92,
   "metadata": {},
   "outputs": [],
   "source": [
    "not_in_csv = set(files[\"file_name\"]) - set(csv[\"fname\"])"
   ]
  },
  {
   "cell_type": "code",
   "execution_count": 98,
   "metadata": {},
   "outputs": [],
   "source": [
    "files[\"not_in_csv\"] = files[\"file_name\"].apply(lambda x: x in not_in_csv)"
   ]
  },
  {
   "cell_type": "code",
   "execution_count": 99,
   "metadata": {},
   "outputs": [
    {
     "data": {
      "text/html": [
       "<div>\n",
       "<style scoped>\n",
       "    .dataframe tbody tr th:only-of-type {\n",
       "        vertical-align: middle;\n",
       "    }\n",
       "\n",
       "    .dataframe tbody tr th {\n",
       "        vertical-align: top;\n",
       "    }\n",
       "\n",
       "    .dataframe thead th {\n",
       "        text-align: right;\n",
       "    }\n",
       "</style>\n",
       "<table border=\"1\" class=\"dataframe\">\n",
       "  <thead>\n",
       "    <tr style=\"text-align: right;\">\n",
       "      <th></th>\n",
       "      <th>fname</th>\n",
       "      <th>file_name</th>\n",
       "      <th>not_int_csv</th>\n",
       "      <th>not_in_csv</th>\n",
       "    </tr>\n",
       "  </thead>\n",
       "  <tbody>\n",
       "    <tr>\n",
       "      <th>5506</th>\n",
       "      <td>gs://ncedc/data/BG.ACR..CN.0410551.npz</td>\n",
       "      <td>BG.ACR..CN.0410551.npz</td>\n",
       "      <td>True</td>\n",
       "      <td>True</td>\n",
       "    </tr>\n",
       "    <tr>\n",
       "      <th>5508</th>\n",
       "      <td>gs://ncedc/data/BG.ACR..CN.0411058.npz</td>\n",
       "      <td>BG.ACR..CN.0411058.npz</td>\n",
       "      <td>True</td>\n",
       "      <td>True</td>\n",
       "    </tr>\n",
       "    <tr>\n",
       "      <th>5510</th>\n",
       "      <td>gs://ncedc/data/BG.ACR..CN.0411911.npz</td>\n",
       "      <td>BG.ACR..CN.0411911.npz</td>\n",
       "      <td>True</td>\n",
       "      <td>True</td>\n",
       "    </tr>\n",
       "    <tr>\n",
       "      <th>5512</th>\n",
       "      <td>gs://ncedc/data/BG.ACR..CN.0412148.npz</td>\n",
       "      <td>BG.ACR..CN.0412148.npz</td>\n",
       "      <td>True</td>\n",
       "      <td>True</td>\n",
       "    </tr>\n",
       "    <tr>\n",
       "      <th>5514</th>\n",
       "      <td>gs://ncedc/data/BG.ACR..CN.0412406.npz</td>\n",
       "      <td>BG.ACR..CN.0412406.npz</td>\n",
       "      <td>True</td>\n",
       "      <td>True</td>\n",
       "    </tr>\n",
       "    <tr>\n",
       "      <th>...</th>\n",
       "      <td>...</td>\n",
       "      <td>...</td>\n",
       "      <td>...</td>\n",
       "      <td>...</td>\n",
       "    </tr>\n",
       "    <tr>\n",
       "      <th>1542548</th>\n",
       "      <td>gs://ncedc/data/WR.SPR..EH.0415161.npz</td>\n",
       "      <td>WR.SPR..EH.0415161.npz</td>\n",
       "      <td>True</td>\n",
       "      <td>True</td>\n",
       "    </tr>\n",
       "    <tr>\n",
       "      <th>1542550</th>\n",
       "      <td>gs://ncedc/data/WR.SPR..EH.0415324.npz</td>\n",
       "      <td>WR.SPR..EH.0415324.npz</td>\n",
       "      <td>True</td>\n",
       "      <td>True</td>\n",
       "    </tr>\n",
       "    <tr>\n",
       "      <th>1542761</th>\n",
       "      <td>gs://ncedc/data/WR.SPR..HN.0415161.npz</td>\n",
       "      <td>WR.SPR..HN.0415161.npz</td>\n",
       "      <td>True</td>\n",
       "      <td>True</td>\n",
       "    </tr>\n",
       "    <tr>\n",
       "      <th>1542763</th>\n",
       "      <td>gs://ncedc/data/WR.SPR..HN.0415324.npz</td>\n",
       "      <td>WR.SPR..HN.0415324.npz</td>\n",
       "      <td>True</td>\n",
       "      <td>True</td>\n",
       "    </tr>\n",
       "    <tr>\n",
       "      <th>1542772</th>\n",
       "      <td>gs://ncedc/data/WR.THER.00.HN.0415230.npz</td>\n",
       "      <td>WR.THER.00.HN.0415230.npz</td>\n",
       "      <td>True</td>\n",
       "      <td>True</td>\n",
       "    </tr>\n",
       "  </tbody>\n",
       "</table>\n",
       "<p>27722 rows × 4 columns</p>\n",
       "</div>"
      ],
      "text/plain": [
       "                                             fname                  file_name  \\\n",
       "5506        gs://ncedc/data/BG.ACR..CN.0410551.npz     BG.ACR..CN.0410551.npz   \n",
       "5508        gs://ncedc/data/BG.ACR..CN.0411058.npz     BG.ACR..CN.0411058.npz   \n",
       "5510        gs://ncedc/data/BG.ACR..CN.0411911.npz     BG.ACR..CN.0411911.npz   \n",
       "5512        gs://ncedc/data/BG.ACR..CN.0412148.npz     BG.ACR..CN.0412148.npz   \n",
       "5514        gs://ncedc/data/BG.ACR..CN.0412406.npz     BG.ACR..CN.0412406.npz   \n",
       "...                                            ...                        ...   \n",
       "1542548     gs://ncedc/data/WR.SPR..EH.0415161.npz     WR.SPR..EH.0415161.npz   \n",
       "1542550     gs://ncedc/data/WR.SPR..EH.0415324.npz     WR.SPR..EH.0415324.npz   \n",
       "1542761     gs://ncedc/data/WR.SPR..HN.0415161.npz     WR.SPR..HN.0415161.npz   \n",
       "1542763     gs://ncedc/data/WR.SPR..HN.0415324.npz     WR.SPR..HN.0415324.npz   \n",
       "1542772  gs://ncedc/data/WR.THER.00.HN.0415230.npz  WR.THER.00.HN.0415230.npz   \n",
       "\n",
       "         not_int_csv  not_in_csv  \n",
       "5506            True        True  \n",
       "5508            True        True  \n",
       "5510            True        True  \n",
       "5512            True        True  \n",
       "5514            True        True  \n",
       "...              ...         ...  \n",
       "1542548         True        True  \n",
       "1542550         True        True  \n",
       "1542761         True        True  \n",
       "1542763         True        True  \n",
       "1542772         True        True  \n",
       "\n",
       "[27722 rows x 4 columns]"
      ]
     },
     "execution_count": 99,
     "metadata": {},
     "output_type": "execute_result"
    }
   ],
   "source": [
    "files[files[\"not_in_csv\"]==True]"
   ]
  },
  {
   "cell_type": "code",
   "execution_count": 100,
   "metadata": {},
   "outputs": [],
   "source": [
    "files[files[\"not_in_csv\"]==True].to_csv(\"not_in_csv.csv\", columns=[\"fname\"], index=False)"
   ]
  },
  {
   "cell_type": "code",
   "execution_count": null,
   "metadata": {},
   "outputs": [],
   "source": []
  }
 ],
 "metadata": {
  "kernelspec": {
   "display_name": "Python 3",
   "language": "python",
   "name": "python3"
  },
  "language_info": {
   "codemirror_mode": {
    "name": "ipython",
    "version": 3
   },
   "file_extension": ".py",
   "mimetype": "text/x-python",
   "name": "python",
   "nbconvert_exporter": "python",
   "pygments_lexer": "ipython3",
   "version": "3.7.7"
  }
 },
 "nbformat": 4,
 "nbformat_minor": 4
}
